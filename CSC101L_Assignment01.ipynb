{
  "nbformat": 4,
  "nbformat_minor": 0,
  "metadata": {
    "colab": {
      "provenance": []
    },
    "kernelspec": {
      "name": "python3",
      "display_name": "Python 3"
    },
    "language_info": {
      "name": "python"
    }
  },
  "cells": [
    {
      "cell_type": "markdown",
      "source": [
        "# **Basic of print() function**\n",
        "\n",
        "---\n",
        "\n"
      ],
      "metadata": {
        "id": "z8mJhHpiiujI"
      }
    },
    {
      "cell_type": "code",
      "execution_count": null,
      "metadata": {
        "colab": {
          "base_uri": "https://localhost:8080/"
        },
        "id": "GQ1oNW-gfyR-",
        "outputId": "15f0b7c1-b4de-44a2-be59-d9e24e2abec8"
      },
      "outputs": [
        {
          "output_type": "stream",
          "name": "stdout",
          "text": [
            "Hello Python! This is me trying to learn you!!\n"
          ]
        }
      ],
      "source": [
        "print('Hello Python! This is me trying to learn you!!')"
      ]
    },
    {
      "cell_type": "markdown",
      "source": [
        "**Exercise 1: Print your full Name and Department Name.**"
      ],
      "metadata": {
        "id": "dpDfYwq-WlZy"
      }
    },
    {
      "cell_type": "code",
      "source": [],
      "metadata": {
        "id": "vkbCR4WkWk-V"
      },
      "execution_count": null,
      "outputs": []
    },
    {
      "cell_type": "markdown",
      "source": [
        "## **New Line**"
      ],
      "metadata": {
        "id": "8EDTbtm6Xv-o"
      }
    },
    {
      "cell_type": "code",
      "source": [
        "print('To,\\nThe Faculty, CSC101,\\nDeprtment of CSE, IUB.')"
      ],
      "metadata": {
        "colab": {
          "base_uri": "https://localhost:8080/"
        },
        "id": "y-Fh2kKYiSij",
        "outputId": "f4740d23-e904-45e1-9ad7-4412750bc4ab"
      },
      "execution_count": null,
      "outputs": [
        {
          "output_type": "stream",
          "name": "stdout",
          "text": [
            "To,\n",
            "The Faculty, CSC101,\n",
            "Deprtment of CSE, IUB.\n"
          ]
        }
      ]
    },
    {
      "cell_type": "markdown",
      "source": [
        "**Exercise 2: Print Student Name, Student ID, Student Email, Course ID, Section as follows by generating new line.**\n",
        "\n",
        "---\n",
        "**OUTPUT**\n",
        "```\n",
        "Student Name:\n",
        "Student ID:\n",
        "Student Email:\n",
        "Course ID:\n",
        "Section:\n",
        "```"
      ],
      "metadata": {
        "id": "KfeCdYYOWp9W"
      }
    },
    {
      "cell_type": "code",
      "source": [],
      "metadata": {
        "id": "EHTD1FocX4lX"
      },
      "execution_count": null,
      "outputs": []
    },
    {
      "cell_type": "markdown",
      "source": [
        "#**Multi-line printing (single, double and tripple quotation)**\n",
        "\n",
        "---\n",
        "\n"
      ],
      "metadata": {
        "id": "fSST9RslmRmP"
      }
    },
    {
      "cell_type": "code",
      "source": [
        "#Single quation for single line text printing\n",
        "print('This is Mahbubul Syeed. Currently working as an Associate Professor, Department of CSE, Indepenedent University, Bangladesh')\n",
        "\n",
        "#Double quotation has the same purpose as of the single quotation\n",
        "print(\"This is Mahbubul Syeed. Currently working as an Associate Professor, Department of CSE, Indepenedent University, Bangladesh\")"
      ],
      "metadata": {
        "colab": {
          "base_uri": "https://localhost:8080/"
        },
        "id": "Cw2h2QMxmahA",
        "outputId": "72fbeb07-128b-4d04-9ebc-56fa73c2b8c8"
      },
      "execution_count": null,
      "outputs": [
        {
          "output_type": "stream",
          "name": "stdout",
          "text": [
            "This is Mahbubul Syeed. Currently working as an Associate Professor, Department of CSE, Indepenedent University, Bangladesh\n",
            "This is Mahbubul Syeed. Currently working as an Associate Professor, Department of CSE, Indepenedent University, Bangladesh\n"
          ]
        }
      ]
    },
    {
      "cell_type": "code",
      "source": [
        "#Tripple quotation are used for MULTI line printing\n",
        "print('''This is Mahbubul Syeed.\n",
        "Currently working as an Associate Professor,\n",
        "Department of CSE,\n",
        "Indepenedent University, Banglades''')"
      ],
      "metadata": {
        "colab": {
          "base_uri": "https://localhost:8080/"
        },
        "id": "PZwq_I46m1Vh",
        "outputId": "3d2930a0-fbf6-4926-ef4f-1420f4ab8d75"
      },
      "execution_count": null,
      "outputs": [
        {
          "output_type": "stream",
          "name": "stdout",
          "text": [
            "This is Mahbubul Syeed. \n",
            "Currently working as an Associate Professor, \n",
            "Department of CSE, \n",
            "Indepenedent University, Banglades\n"
          ]
        }
      ]
    },
    {
      "cell_type": "code",
      "source": [],
      "metadata": {
        "id": "IjiXxJH3WpcR"
      },
      "execution_count": null,
      "outputs": []
    },
    {
      "cell_type": "markdown",
      "source": [
        "**Exercise 3: Print the following multi-line using multi-line printing.**\n",
        "\n",
        "Hard work pays off.\n",
        "\n",
        "The harder you work, the more people will notice.\n",
        "\n",
        "– Sydney Sweeney"
      ],
      "metadata": {
        "id": "Ge3fyZyGaiSv"
      }
    },
    {
      "cell_type": "code",
      "source": [],
      "metadata": {
        "id": "c-xwfluCajAD"
      },
      "execution_count": null,
      "outputs": []
    },
    {
      "cell_type": "markdown",
      "source": [
        "#**Commenting the code**\n",
        "\n",
        "---\n",
        "\n",
        "Comment are the messages to describe what your code does and is good for understanding your code. It is not part of the code."
      ],
      "metadata": {
        "id": "bqoivReti4G7"
      }
    },
    {
      "cell_type": "code",
      "source": [
        "#printing the name\n",
        "print('My name is Mahbubul Syeed')\n",
        "print('I am the faculty of this course') # defining the faculty responsibility"
      ],
      "metadata": {
        "id": "fly1JVn7i97u"
      },
      "execution_count": null,
      "outputs": []
    },
    {
      "cell_type": "markdown",
      "source": [
        "##**Multi-line Comments**"
      ],
      "metadata": {
        "id": "XS7sZ4JuSpHr"
      }
    },
    {
      "cell_type": "code",
      "source": [
        "'''To,\n",
        "The Faculty, CSC101,\n",
        "Deprtment of CSE, IUB.'''\n",
        "print(\"Hello World!\")\n"
      ],
      "metadata": {
        "colab": {
          "base_uri": "https://localhost:8080/"
        },
        "id": "Ddy-Ka-gPPvW",
        "outputId": "8c3bf9ff-a286-4aef-a2f7-92e2fa5ae26a"
      },
      "execution_count": null,
      "outputs": [
        {
          "output_type": "stream",
          "name": "stdout",
          "text": [
            "Hello World!\n"
          ]
        }
      ]
    },
    {
      "cell_type": "markdown",
      "source": [
        "**Exerecise 4:  Comment each line of the following code with appropriate message and multi-line comment for this code.**\n",
        "**Hint: You can write anything you want!**"
      ],
      "metadata": {
        "id": "LdAJqmC2aOsn"
      }
    },
    {
      "cell_type": "code",
      "source": [
        "print('Course name: Introduction to Programming')\n",
        "print('Course code: CSC101')\n",
        "print('Semester: 1st')\n",
        "print('Year: 1st')"
      ],
      "metadata": {
        "id": "bRQ9yr_7aObs"
      },
      "execution_count": null,
      "outputs": []
    },
    {
      "cell_type": "markdown",
      "source": [
        "#**Variables**\n",
        "\n",
        "---\n",
        "\n",
        "\n",
        "\n",
        "Variables are nothing but reserved memory locations to store values."
      ],
      "metadata": {
        "id": "zoRbqqHYolPP"
      }
    },
    {
      "cell_type": "code",
      "source": [
        "name = 'Mahbubul Syeed'               #name is a variable that stores the text 'Mahbubul Syeed'\n",
        "id = 1234                             #id is a variable that stores the number 1234\n",
        "email = \"mahbubul.syeed@gmail.com\"    #email is a variable that stores 'mahbubul.syeed@gmail.com'\n",
        "\n",
        "# NOTE! There is no quotation marks for the variables in print statement\n",
        "# print each of the variable values\n",
        "print(name)\n",
        "print(id)\n",
        "print(email)"
      ],
      "metadata": {
        "colab": {
          "base_uri": "https://localhost:8080/"
        },
        "id": "ZL-XKPhEovna",
        "outputId": "fbfa7252-5eea-45e5-9da5-4417aa6b63de"
      },
      "execution_count": null,
      "outputs": [
        {
          "output_type": "stream",
          "name": "stdout",
          "text": [
            "Mahbubul Syeed\n",
            "1234\n",
            "mahbubul.syeed@gmail.com\n"
          ]
        }
      ]
    },
    {
      "cell_type": "code",
      "source": [
        "name = 'Mahbubul Syeed'               #name is a variable that stores the text 'Mahbubul Syeed'\n",
        "id = 1234                             #id is a variable that stores the number 1234\n",
        "email = \"mahbubul.syeed@gmail.com\"    #email is a variable that stores 'mahbubul.syeed@gmail.com'\n",
        "\n",
        "# NOTE! There is no quotation marks for the variables in print statement\n",
        "\n",
        "# print multiple variables in single print statement\n",
        "print(name, id, email)\n",
        "\n",
        "print(name, ',', id,',', email)\n",
        "\n",
        "print(name,'\\n',id,'\\n',email)\n",
        "\n",
        "print('your name: ', name, '\\nyour id: ', id,'\\nyour email: ', email)"
      ],
      "metadata": {
        "colab": {
          "base_uri": "https://localhost:8080/"
        },
        "id": "cCPx1YngqKHF",
        "outputId": "0812c590-27f6-4502-e207-860b9fe4cade"
      },
      "execution_count": null,
      "outputs": [
        {
          "output_type": "stream",
          "name": "stdout",
          "text": [
            "Mahbubul Syeed 1234 mahbubul.syeed@gmail.com\n",
            "Mahbubul Syeed , 1234 , mahbubul.syeed@gmail.com\n",
            "Mahbubul Syeed \n",
            " 1234 \n",
            " mahbubul.syeed@gmail.com\n",
            "your name:  Mahbubul Syeed \n",
            "your id:  1234 \n",
            "your email:  mahbubul.syeed@gmail.com\n"
          ]
        }
      ]
    },
    {
      "cell_type": "markdown",
      "source": [
        "**Exercise 5: Use five variables to store Student Name, Student ID, Student Email, Course ID, Section and print them using multi-line printing.**\n",
        "\n",
        "---\n",
        "**OUTPUT**\n",
        "```\n",
        "Student Name:\n",
        "Student ID:\n",
        "Student Email:\n",
        "Course ID:\n",
        "Section:\n",
        "```\n",
        "\n"
      ],
      "metadata": {
        "id": "omyzrxiga39w"
      }
    },
    {
      "cell_type": "code",
      "source": [],
      "metadata": {
        "id": "PM1_I4qAa7yP"
      },
      "execution_count": null,
      "outputs": []
    },
    {
      "cell_type": "markdown",
      "source": [
        "**Exercise 6: Use three variables to store Student ID, Course Name, CGPA. Print them using single print() statement by generating new line. The print will be exactly is follows:**\n",
        "\n",
        "\n",
        "---\n",
        "**OUTPUT**\n",
        "```\n",
        "Student ID:\n",
        "Course Name:\n",
        "CGPA:\n",
        "```"
      ],
      "metadata": {
        "id": "i_Mr9Keoa6NN"
      }
    },
    {
      "cell_type": "markdown",
      "source": [
        "## **Assigning value to multiple variables**"
      ],
      "metadata": {
        "id": "z57CzOl3dwfH"
      }
    },
    {
      "cell_type": "code",
      "source": [
        "# Python allows you to assign a single value to several variables simultaneously\n",
        "a = b = c = 1\n",
        "print('a = ', a, 'b = ', b, 'c = ', c)"
      ],
      "metadata": {
        "colab": {
          "base_uri": "https://localhost:8080/"
        },
        "id": "xg2f-YROeY0V",
        "outputId": "cd1cc41a-ec72-45a2-c996-f3d987af186c"
      },
      "execution_count": null,
      "outputs": [
        {
          "output_type": "stream",
          "name": "stdout",
          "text": [
            "a =  1 b =  1 c =  1\n"
          ]
        }
      ]
    },
    {
      "cell_type": "code",
      "source": [
        "# You can also assign multiple values to multiple variables\n",
        "a, b, c = 1, 12.34, 'Jems Bond 420'\n",
        "\n",
        "print('a = ', a)\n",
        "print('b = ', b)\n",
        "print('c = ', c)"
      ],
      "metadata": {
        "colab": {
          "base_uri": "https://localhost:8080/"
        },
        "id": "I47RUKMUet8n",
        "outputId": "f29edac1-9af8-4ffe-aa93-254c59195baf"
      },
      "execution_count": null,
      "outputs": [
        {
          "output_type": "stream",
          "name": "stdout",
          "text": [
            "a =  1\n",
            "b =  12.34\n",
            "c =  Jems Bond 420\n"
          ]
        }
      ]
    },
    {
      "cell_type": "markdown",
      "source": [
        "**Exercise 7: Using a single assignment operator to assign the values 7, 8.91, 'Jonny Jonny Yes Pappa' and 'This is 2023 Autumn semester.' to 4 different variables. Print their values.**"
      ],
      "metadata": {
        "id": "sOdKp1KTbjIM"
      }
    },
    {
      "cell_type": "code",
      "source": [],
      "metadata": {
        "id": "Bh9MXYhwbjtF"
      },
      "execution_count": null,
      "outputs": []
    },
    {
      "cell_type": "markdown",
      "source": [
        "#**Formatting printing using print() function**\n",
        "\n",
        "---\n",
        "\n"
      ],
      "metadata": {
        "id": "0Cp_8expYTnq"
      }
    },
    {
      "cell_type": "markdown",
      "source": [
        "**Formatting Option: 1**"
      ],
      "metadata": {
        "id": "uqXgvC0vhKuk"
      }
    },
    {
      "cell_type": "code",
      "source": [
        "name = 'Mustafa'\n",
        "id = 420.2555555\n",
        "print(\"Welcome %s with id %.2f to the class\" %(name,id))"
      ],
      "metadata": {
        "colab": {
          "base_uri": "https://localhost:8080/"
        },
        "id": "IsIuPGNmYYhi",
        "outputId": "c6dd2214-2119-4e4e-dd25-04185463a7fb"
      },
      "execution_count": null,
      "outputs": [
        {
          "output_type": "stream",
          "name": "stdout",
          "text": [
            "Welcome Mustafa with id 420 to the class\n"
          ]
        }
      ]
    },
    {
      "cell_type": "markdown",
      "source": [
        "**Formatting Option: 2**"
      ],
      "metadata": {
        "id": "v8cRG_31hRZw"
      }
    },
    {
      "cell_type": "code",
      "source": [
        "name = 'Mustafa'\n",
        "id = 420\n",
        "print(\"Welcome {} with id {} to the class\".format(name,id))"
      ],
      "metadata": {
        "colab": {
          "base_uri": "https://localhost:8080/"
        },
        "id": "GVcmaTyShX-B",
        "outputId": "ca610ee0-df1e-4737-e0e4-89e1ad1c14f4"
      },
      "execution_count": null,
      "outputs": [
        {
          "output_type": "stream",
          "name": "stdout",
          "text": [
            "Welcome Mustafa with id 420 to the class\n"
          ]
        }
      ]
    },
    {
      "cell_type": "markdown",
      "source": [
        "**Formatting Option: 3**"
      ],
      "metadata": {
        "id": "YaUgXJYShRtn"
      }
    },
    {
      "cell_type": "code",
      "source": [
        "name = 'Mustafa'\n",
        "id = 420\n",
        "print(f\"Welcome {name} with id {id} to the class\")"
      ],
      "metadata": {
        "colab": {
          "base_uri": "https://localhost:8080/"
        },
        "id": "dlzjnAQXhWsP",
        "outputId": "dbd24560-9692-4a7f-99f2-175ef3bff33c"
      },
      "execution_count": null,
      "outputs": [
        {
          "output_type": "stream",
          "name": "stdout",
          "text": [
            "Welcome Mustafa with id 420 to the class\n"
          ]
        }
      ]
    },
    {
      "cell_type": "markdown",
      "source": [
        "**Exercise 8: Print the following using Formatting option 1**"
      ],
      "metadata": {
        "id": "nQMClQ56bvUL"
      }
    },
    {
      "cell_type": "code",
      "source": [
        "name = 'James Bond'\n",
        "id = 007\n",
        "email = '007@com'\n",
        "\n",
        "# print the following message using Formatting option 1: Hello, Jems Bond. Your id is: 420 and email is 420@com. Welcome to the club!\n"
      ],
      "metadata": {
        "id": "twGCwLUfbuQd"
      },
      "execution_count": null,
      "outputs": []
    },
    {
      "cell_type": "markdown",
      "source": [
        "**Exercise 9: Print the following using Formatting option 2**"
      ],
      "metadata": {
        "id": "FjW4IpoEby7a"
      }
    },
    {
      "cell_type": "code",
      "source": [
        "name = 'James Bond'\n",
        "id = 007\n",
        "email = '007@com'\n",
        "\n",
        "# print the following message using Formatting option 2: Hello, Jems Bond. Your id is: 420 and email is 420@com. Welcome to the club!\n"
      ],
      "metadata": {
        "id": "LLqBGKv5b2Bm"
      },
      "execution_count": null,
      "outputs": []
    },
    {
      "cell_type": "markdown",
      "source": [
        "**Exercise 10: Print the following using Formatting option 3**"
      ],
      "metadata": {
        "id": "Ragqc8Xub2lZ"
      }
    },
    {
      "cell_type": "code",
      "source": [
        "name = 'James Bond'\n",
        "id = 007\n",
        "email = '007@com'\n",
        "\n",
        "# print the following message using Formatting option 3: Hello, Jems Bond. Your id is: 420 and email is 420@com. Welcome to the club!\n"
      ],
      "metadata": {
        "id": "7U6BObh6b5xL"
      },
      "execution_count": null,
      "outputs": []
    },
    {
      "cell_type": "markdown",
      "source": [
        "#**Types of Variables**\n",
        "\n",
        "---\n",
        "\n"
      ],
      "metadata": {
        "id": "AFDqiO19WeVs"
      }
    },
    {
      "cell_type": "markdown",
      "source": [
        "Python has five standard data types-\n",
        "\n",
        "\n",
        "1.   Numbers: Integer, Float, Complex\n",
        "2.   String\n",
        "3. List\n",
        "4.  Tuple\n",
        "5. Set\n",
        "6. Dictionary"
      ],
      "metadata": {
        "id": "L_MqcHKwWi4e"
      }
    },
    {
      "cell_type": "code",
      "source": [
        "# Numbers\n",
        "x = 1234   # integer\n",
        "y = 12.45  # float\n",
        "z = 3+6j  # complex\n",
        "\n",
        "# Sring : written within quotation marks\n",
        "\n",
        "a = 'This is a string'\n",
        "b = '1234'\n",
        "c = 'I have a case with no: 123456'\n",
        "\n",
        "print(x)\n",
        "print(y)\n",
        "print(z)\n",
        "\n",
        "print(a)\n",
        "print(b)\n",
        "print(c)"
      ],
      "metadata": {
        "colab": {
          "base_uri": "https://localhost:8080/"
        },
        "id": "ewuPhCvNW0dc",
        "outputId": "80fff6e5-7639-45cb-dfe1-d3589c9a5777"
      },
      "execution_count": null,
      "outputs": [
        {
          "output_type": "stream",
          "name": "stdout",
          "text": [
            "1234\n",
            "12.45\n",
            "(3+6j)\n",
            "This is a string\n",
            "1234\n",
            "I have a case with no: 123456\n"
          ]
        }
      ]
    },
    {
      "cell_type": "markdown",
      "source": [
        "**Exercise 11: Declare one integer, one string and one float variable, and then print their values.**"
      ],
      "metadata": {
        "id": "KCYXqJYfcJCA"
      }
    },
    {
      "cell_type": "code",
      "source": [],
      "metadata": {
        "id": "LwbpxTt6cIk2"
      },
      "execution_count": null,
      "outputs": []
    },
    {
      "cell_type": "markdown",
      "source": [
        "## **Checking the type of the variable in program**\n",
        "\n",
        "\n"
      ],
      "metadata": {
        "id": "x4p9prMLXkl_"
      }
    },
    {
      "cell_type": "code",
      "source": [
        "# Numbers\n",
        "x = 1234   # integer\n",
        "y = 12.45  # float\n",
        "z = 3+6j  # complex\n",
        "\n",
        "# Sring : written within quotation marks\n",
        "\n",
        "a = 'This is a string'\n",
        "b = '1234'\n",
        "c = 'I have a case with no: 123456'\n",
        "\n",
        "#printing using two ways\n",
        "print(type(x))\n",
        "print(type(y))\n",
        "print(type(z))\n",
        "print(type(a))\n",
        "print()\n",
        "\n",
        "print('x = ', x, 'type of x is: ', type(x))\n",
        "print('y = ', y, 'type of y is: ', type(y))\n",
        "print('b = ', b, 'type of b is: ', type(b))"
      ],
      "metadata": {
        "colab": {
          "base_uri": "https://localhost:8080/"
        },
        "id": "mcKDif14XshZ",
        "outputId": "b90b5091-1fcc-40b4-e69f-bd94f92d757d"
      },
      "execution_count": null,
      "outputs": [
        {
          "output_type": "stream",
          "name": "stdout",
          "text": [
            "<class 'int'>\n",
            "<class 'float'>\n",
            "<class 'complex'>\n",
            "<class 'str'>\n",
            "\n",
            "x =  1234 type of x is:  <class 'int'>\n",
            "y =  12.45 type of y is:  <class 'float'>\n",
            "b =  1234 type of b is:  <class 'str'>\n"
          ]
        }
      ]
    },
    {
      "cell_type": "markdown",
      "source": [
        "**Exercise 12: Declare four variables of four different types. Print their values and data types.**"
      ],
      "metadata": {
        "id": "a8Hp4qz9cSxL"
      }
    },
    {
      "cell_type": "code",
      "source": [],
      "metadata": {
        "id": "dLP-2pb_cTOn"
      },
      "execution_count": null,
      "outputs": []
    },
    {
      "cell_type": "markdown",
      "source": [
        "##**Converting the data type in program**"
      ],
      "metadata": {
        "id": "ePCjzzAhVXg_"
      }
    },
    {
      "cell_type": "code",
      "source": [
        "# Numbers\n",
        "x = 1234   # integer\n",
        "y = 12.45  # float\n",
        "z = 'IUB'\n",
        "\n",
        "\n",
        "# check the type of x,y,z\n",
        "print(f'{x} type is: {type(x)}\\n{y} type is: {type(y)}\\n{z} type is: {type(z)}')\n",
        "print('\\n')\n",
        "\n",
        "# convert both the variables into integer and float as it is their data type using int() and float() function\n",
        "x = int(x)\n",
        "y = float(y)\n",
        "\n",
        "# check the type of x,y,z\n",
        "print(f'Type of {x} is: {type(x)}\\nType of {x} is: {type(y)}\\nType of {x} is:  {type(z)}')\n"
      ],
      "metadata": {
        "colab": {
          "base_uri": "https://localhost:8080/"
        },
        "id": "2RSTcR4-VVWo",
        "outputId": "7d5b2447-faec-492b-d097-acc4b5bae872"
      },
      "execution_count": null,
      "outputs": [
        {
          "output_type": "stream",
          "name": "stdout",
          "text": [
            "1234 type is: <class 'int'>\n",
            "12.45 type is: <class 'float'>\n",
            "IUB type is: <class 'str'>\n",
            "\n",
            "\n",
            "Type of 1234 is: <class 'int'>\n",
            "Type of 1234 is: <class 'float'>\n",
            "Type of 1234 is:  <class 'str'>\n"
          ]
        }
      ]
    },
    {
      "cell_type": "markdown",
      "source": [
        "**Exercise 13: For the following variables check and print their data types. Change the datatype for the variable containing numerical values. Afterwards, check the datatype again.**"
      ],
      "metadata": {
        "id": "_RX3xuwSccC8"
      }
    },
    {
      "cell_type": "code",
      "source": [
        "name = 'My name is Khan'\n",
        "CGPA = 3.768\n",
        "age = 34\n",
        "w = -.7+7j\n",
        "\n",
        "# Print the datatype for name\n",
        "\n",
        "# Print the datatype for CGPA\n",
        "\n",
        "# Print the datatype for age\n",
        "\n",
        "# Print the datatype for w\n",
        "\n",
        "#change the"
      ],
      "metadata": {
        "id": "Kql5BKT-ccfE"
      },
      "execution_count": null,
      "outputs": []
    },
    {
      "cell_type": "markdown",
      "source": [
        "# **User Input**\n",
        "\n",
        "---\n",
        "\n"
      ],
      "metadata": {
        "id": "KAVEZ8JTeB1B"
      }
    },
    {
      "cell_type": "markdown",
      "source": [
        "*   *input('Prompt')* function is used to take input from the user.\n",
        "*   User input is always stored in a variable.\n",
        "\n"
      ],
      "metadata": {
        "id": "wvTmqt0dIInd"
      }
    },
    {
      "cell_type": "code",
      "source": [
        "name = input('Enter your name: ') # input() function displaying prompt 'Enter your name:' and wait for a user input\n",
        "                                  # While user enters the value and press enter, the value is stored in the 'name' variable\n",
        "print(name)                       # print the variable value"
      ],
      "metadata": {
        "colab": {
          "base_uri": "https://localhost:8080/"
        },
        "id": "4Xm6UOq8IB8m",
        "outputId": "34dd7c62-bbcc-42f1-c194-6c0bf4ebd849"
      },
      "execution_count": null,
      "outputs": [
        {
          "output_type": "stream",
          "name": "stdout",
          "text": [
            "Enter your name: mahbubul syeed\n",
            "mahbubul syeed\n"
          ]
        }
      ]
    },
    {
      "cell_type": "code",
      "source": [
        "number1 = input(\"Enter number 1:\")\n",
        "number2 = input(\"Enter number2\")\n",
        "\n",
        "iub = int(number1) - int(number2)\n",
        "\n",
        "print(f'{number1} + {number2} = {iub}')\n"
      ],
      "metadata": {
        "id": "l6fSlNV4ulCY",
        "colab": {
          "base_uri": "https://localhost:8080/",
          "height": 380
        },
        "outputId": "d9642740-347a-4e97-e48a-abc25673244e"
      },
      "execution_count": null,
      "outputs": [
        {
          "output_type": "error",
          "ename": "KeyboardInterrupt",
          "evalue": "ignored",
          "traceback": [
            "\u001b[0;31m---------------------------------------------------------------------------\u001b[0m",
            "\u001b[0;31mKeyboardInterrupt\u001b[0m                         Traceback (most recent call last)",
            "\u001b[0;32m<ipython-input-7-f03501914530>\u001b[0m in \u001b[0;36m<cell line: 1>\u001b[0;34m()\u001b[0m\n\u001b[0;32m----> 1\u001b[0;31m \u001b[0mnumber1\u001b[0m \u001b[0;34m=\u001b[0m \u001b[0minput\u001b[0m\u001b[0;34m(\u001b[0m\u001b[0;34m\"Enter number 1:\"\u001b[0m\u001b[0;34m)\u001b[0m\u001b[0;34m\u001b[0m\u001b[0;34m\u001b[0m\u001b[0m\n\u001b[0m\u001b[1;32m      2\u001b[0m \u001b[0mnumber2\u001b[0m \u001b[0;34m=\u001b[0m \u001b[0minput\u001b[0m\u001b[0;34m(\u001b[0m\u001b[0;34m\"Enter number2\"\u001b[0m\u001b[0;34m)\u001b[0m\u001b[0;34m\u001b[0m\u001b[0;34m\u001b[0m\u001b[0m\n\u001b[1;32m      3\u001b[0m \u001b[0;34m\u001b[0m\u001b[0m\n\u001b[1;32m      4\u001b[0m \u001b[0miub\u001b[0m \u001b[0;34m=\u001b[0m \u001b[0mint\u001b[0m\u001b[0;34m(\u001b[0m\u001b[0mnumber1\u001b[0m\u001b[0;34m)\u001b[0m \u001b[0;34m-\u001b[0m \u001b[0mint\u001b[0m\u001b[0;34m(\u001b[0m\u001b[0mnumber2\u001b[0m\u001b[0;34m)\u001b[0m\u001b[0;34m\u001b[0m\u001b[0;34m\u001b[0m\u001b[0m\n\u001b[1;32m      5\u001b[0m \u001b[0;34m\u001b[0m\u001b[0m\n",
            "\u001b[0;32m/usr/local/lib/python3.10/dist-packages/ipykernel/kernelbase.py\u001b[0m in \u001b[0;36mraw_input\u001b[0;34m(self, prompt)\u001b[0m\n\u001b[1;32m    849\u001b[0m                 \u001b[0;34m\"raw_input was called, but this frontend does not support input requests.\"\u001b[0m\u001b[0;34m\u001b[0m\u001b[0;34m\u001b[0m\u001b[0m\n\u001b[1;32m    850\u001b[0m             )\n\u001b[0;32m--> 851\u001b[0;31m         return self._input_request(str(prompt),\n\u001b[0m\u001b[1;32m    852\u001b[0m             \u001b[0mself\u001b[0m\u001b[0;34m.\u001b[0m\u001b[0m_parent_ident\u001b[0m\u001b[0;34m,\u001b[0m\u001b[0;34m\u001b[0m\u001b[0;34m\u001b[0m\u001b[0m\n\u001b[1;32m    853\u001b[0m             \u001b[0mself\u001b[0m\u001b[0;34m.\u001b[0m\u001b[0m_parent_header\u001b[0m\u001b[0;34m,\u001b[0m\u001b[0;34m\u001b[0m\u001b[0;34m\u001b[0m\u001b[0m\n",
            "\u001b[0;32m/usr/local/lib/python3.10/dist-packages/ipykernel/kernelbase.py\u001b[0m in \u001b[0;36m_input_request\u001b[0;34m(self, prompt, ident, parent, password)\u001b[0m\n\u001b[1;32m    893\u001b[0m             \u001b[0;32mexcept\u001b[0m \u001b[0mKeyboardInterrupt\u001b[0m\u001b[0;34m:\u001b[0m\u001b[0;34m\u001b[0m\u001b[0;34m\u001b[0m\u001b[0m\n\u001b[1;32m    894\u001b[0m                 \u001b[0;31m# re-raise KeyboardInterrupt, to truncate traceback\u001b[0m\u001b[0;34m\u001b[0m\u001b[0;34m\u001b[0m\u001b[0m\n\u001b[0;32m--> 895\u001b[0;31m                 \u001b[0;32mraise\u001b[0m \u001b[0mKeyboardInterrupt\u001b[0m\u001b[0;34m(\u001b[0m\u001b[0;34m\"Interrupted by user\"\u001b[0m\u001b[0;34m)\u001b[0m \u001b[0;32mfrom\u001b[0m \u001b[0;32mNone\u001b[0m\u001b[0;34m\u001b[0m\u001b[0;34m\u001b[0m\u001b[0m\n\u001b[0m\u001b[1;32m    896\u001b[0m             \u001b[0;32mexcept\u001b[0m \u001b[0mException\u001b[0m \u001b[0;32mas\u001b[0m \u001b[0me\u001b[0m\u001b[0;34m:\u001b[0m\u001b[0;34m\u001b[0m\u001b[0;34m\u001b[0m\u001b[0m\n\u001b[1;32m    897\u001b[0m                 \u001b[0mself\u001b[0m\u001b[0;34m.\u001b[0m\u001b[0mlog\u001b[0m\u001b[0;34m.\u001b[0m\u001b[0mwarning\u001b[0m\u001b[0;34m(\u001b[0m\u001b[0;34m\"Invalid Message:\"\u001b[0m\u001b[0;34m,\u001b[0m \u001b[0mexc_info\u001b[0m\u001b[0;34m=\u001b[0m\u001b[0;32mTrue\u001b[0m\u001b[0;34m)\u001b[0m\u001b[0;34m\u001b[0m\u001b[0;34m\u001b[0m\u001b[0m\n",
            "\u001b[0;31mKeyboardInterrupt\u001b[0m: Interrupted by user"
          ]
        }
      ]
    },
    {
      "cell_type": "markdown",
      "source": [
        "**Did you Notice any issues with the above program!!**\n",
        "\n",
        "In python all inputs are taken as **string** type.\n",
        "\n",
        "You need to convert them to other data types explicitly."
      ],
      "metadata": {
        "id": "EFHgs4c_umhW"
      }
    },
    {
      "cell_type": "code",
      "source": [
        "num1 = input('Enter Number 1: ')\n",
        "num2 = input('Enter Number 2: ')\n",
        "\n",
        "# check the type of num1 and num2\n",
        "print(f'{num1} type is: {type(num1)}\\n{num2} type is: {type(num2)}')\n",
        "\n",
        "# convert both the variables into integer using int() function\n",
        "num1 = int(num1)\n",
        "num2 = int(num2)\n",
        "\n",
        "# check the type of num1 and num2\n",
        "print(f'{num1} type is: {type(num1)}\\n{num2} type is: {type(num2)}')\n",
        "\n",
        "# add the two numbers and print the result\n",
        "add = num1 + num2\n",
        "\n",
        "print(f'{num1} + {num2} = {add}')"
      ],
      "metadata": {
        "colab": {
          "base_uri": "https://localhost:8080/"
        },
        "id": "MNKiTcSIvAjB",
        "outputId": "a437bff6-400e-4de3-e122-69135d1f9763"
      },
      "execution_count": null,
      "outputs": [
        {
          "output_type": "stream",
          "name": "stdout",
          "text": [
            "Enter Number 1: 23\n",
            "Enter Number 2: 34\n",
            "23 type is: <class 'str'>\n",
            "34 type is: <class 'str'>\n",
            "23 type is: <class 'int'>\n",
            "34 type is: <class 'int'>\n",
            "23 + 34 = 57\n"
          ]
        }
      ]
    },
    {
      "cell_type": "markdown",
      "source": [
        "**Automatic Type conversion**\n",
        "Data types are auto converted to the upper types while doing artihmetic operations."
      ],
      "metadata": {
        "id": "hyiuvfA6wh0o"
      }
    },
    {
      "cell_type": "code",
      "source": [
        "a = 23.4   # type of a is float\n",
        "b = 16     # type of b is int\n",
        "\n",
        "c = a + b  # adding one float and one int number. so what will be the type of c? float or int?\n",
        "\n",
        "print(f'{a} type is: {type(a)}')\n",
        "print(f'{b} type is: {type(b)}')\n",
        "print(f'{c} type is: {type(c)}')\n",
        "\n",
        "a = 'I am Bond' # type of a is string\n",
        "b = 420         # type of b is int\n",
        "\n",
        "#QUESTION\n",
        "c = a + b       # what will be the type of c??\n",
        "\n"
      ],
      "metadata": {
        "colab": {
          "base_uri": "https://localhost:8080/",
          "height": 276
        },
        "id": "l8RVK-RswyeL",
        "outputId": "09941dd5-91d8-4dd2-9f96-8b8443955138"
      },
      "execution_count": null,
      "outputs": [
        {
          "output_type": "stream",
          "name": "stdout",
          "text": [
            "23.4 type is: <class 'float'>\n",
            "16 type is: <class 'int'>\n",
            "39.4 type is: <class 'float'>\n"
          ]
        },
        {
          "output_type": "error",
          "ename": "TypeError",
          "evalue": "ignored",
          "traceback": [
            "\u001b[0;31m---------------------------------------------------------------------------\u001b[0m",
            "\u001b[0;31mTypeError\u001b[0m                                 Traceback (most recent call last)",
            "\u001b[0;32m<ipython-input-3-1a96ce0c4059>\u001b[0m in \u001b[0;36m<cell line: 13>\u001b[0;34m()\u001b[0m\n\u001b[1;32m     11\u001b[0m \u001b[0mb\u001b[0m \u001b[0;34m=\u001b[0m \u001b[0;36m420\u001b[0m         \u001b[0;31m# type of b is int\u001b[0m\u001b[0;34m\u001b[0m\u001b[0;34m\u001b[0m\u001b[0m\n\u001b[1;32m     12\u001b[0m \u001b[0;34m\u001b[0m\u001b[0m\n\u001b[0;32m---> 13\u001b[0;31m \u001b[0mc\u001b[0m \u001b[0;34m=\u001b[0m \u001b[0ma\u001b[0m \u001b[0;34m+\u001b[0m \u001b[0mb\u001b[0m       \u001b[0;31m# what will be the type of c??\u001b[0m\u001b[0;34m\u001b[0m\u001b[0;34m\u001b[0m\u001b[0m\n\u001b[0m\u001b[1;32m     14\u001b[0m \u001b[0;34m\u001b[0m\u001b[0m\n",
            "\u001b[0;31mTypeError\u001b[0m: can only concatenate str (not \"int\") to str"
          ]
        }
      ]
    },
    {
      "cell_type": "markdown",
      "source": [
        "**Exercise: 14**\n",
        "\n",
        "\n",
        "1.   Prompt user to enter their email address and phone number as input.\n",
        "2.   Take the inputs in two variables name 'user_email' and 'user_phone'\n",
        "3.   Print the two variable using two print functions.\n",
        "\n",
        "\n"
      ],
      "metadata": {
        "id": "LxRuJIgWcmLj"
      }
    },
    {
      "cell_type": "code",
      "source": [],
      "metadata": {
        "id": "X2HmK376cmxI"
      },
      "execution_count": null,
      "outputs": []
    },
    {
      "cell_type": "markdown",
      "source": [
        "**Exercise: 15**\n",
        "\n",
        "\n",
        "1.   Take two numbers as input from the user and store them in two variables, a and b.\n",
        "2.   Add the two numbers and store the result in another varibale c (i.e., c = a + b)\n",
        "3.   Print the result formatteed as follows: a + b = c\n",
        "\n"
      ],
      "metadata": {
        "id": "jYuOi5YQcnTa"
      }
    },
    {
      "cell_type": "code",
      "source": [],
      "metadata": {
        "id": "KzO4HexDcqZJ"
      },
      "execution_count": null,
      "outputs": []
    },
    {
      "cell_type": "markdown",
      "source": [
        "# **Lesson Exercise**\n",
        "\n",
        "---"
      ],
      "metadata": {
        "id": "4gFFM-BZcqxH"
      }
    },
    {
      "cell_type": "markdown",
      "source": [
        "**Exercise: 16**\n",
        "Get the following information from user and Print out your full name, your semester, your ID number, your hobby and your favorite movie name. All of the information should be in separate lines and should appear formatted like below:\n",
        "\n",
        "Full name: ……………\n",
        "\n",
        "ID: …………..\n",
        "\n",
        "Semester: …………\n",
        "\n",
        "Hobby: …………..\n",
        "\n",
        "Favorite movie: …………..\n",
        "\n",
        "OUTPUT\n",
        "Your name is ……………\n",
        "\n",
        "Your ID is ………\n",
        "\n",
        "Your semester is …………\n",
        "\n",
        "Your hobby is …………\n",
        "\n",
        "Your favorite movie is …………..\n"
      ],
      "metadata": {
        "id": "RU17No8bcvcx"
      }
    },
    {
      "cell_type": "code",
      "source": [],
      "metadata": {
        "id": "ApYPmCNVcywN"
      },
      "execution_count": null,
      "outputs": []
    },
    {
      "cell_type": "markdown",
      "source": [
        "**Exercise: 17**\n",
        "Take input from user their name, address, email and phone number. Then print the information on the screen. Following is the sample input and output:\n",
        "\n",
        "Name: Mahbubul Syeed\n",
        "\n",
        "Address: Dohs, Mirpur\n",
        "\n",
        "Email: xyz@gmail.com\n",
        "\n",
        "Phone: 12345678\n",
        "\n",
        "Your information is as follows:\n",
        "\n",
        "Hello Mahbubul Syeed! Your address is: Dohs, Mirpur. You will receive a confirmation email at: xyz@gmail.com and a message to your registered mobile number (12345678).\n"
      ],
      "metadata": {
        "id": "dpoBfpcrczG4"
      }
    },
    {
      "cell_type": "code",
      "source": [],
      "metadata": {
        "id": "mZFlSNWAc2jS"
      },
      "execution_count": null,
      "outputs": []
    },
    {
      "cell_type": "markdown",
      "source": [
        "**Exercise: 18** Make a simple calculator for two numbers. Take two numbers as input from the user and print the result of simple arithmetic between them.\n",
        "Following is the simple input and output.\n",
        "\n",
        "Enter Two numbers..\n",
        "\n",
        "Enter number 1: 35\n",
        "\n",
        "Enter number 2: 45\n",
        "\n",
        "Addition (35 + 45) = 80\n",
        "\n",
        "Subtraction (35 - 45) = -10\n",
        "\n",
        "Division (35 / 45) = .777\n",
        "\n",
        "Multiplication (35 * 45) = 1575\n"
      ],
      "metadata": {
        "id": "sznEyw3Mc26u"
      }
    },
    {
      "cell_type": "code",
      "source": [],
      "metadata": {
        "id": "ON4yFfs7c6dC"
      },
      "execution_count": null,
      "outputs": []
    }
  ]
}