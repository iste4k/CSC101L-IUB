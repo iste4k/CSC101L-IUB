{
  "cells": [
    {
      "cell_type": "markdown",
      "metadata": {
        "id": "z8mJhHpiiujI"
      },
      "source": [
        "# **Basic of print() function**\n",
        "\n",
        "---\n",
        "\n"
      ]
    },
    {
      "cell_type": "code",
      "execution_count": 1,
      "metadata": {
        "colab": {
          "base_uri": "https://localhost:8080/"
        },
        "id": "GQ1oNW-gfyR-",
        "outputId": "15f0b7c1-b4de-44a2-be59-d9e24e2abec8"
      },
      "outputs": [
        {
          "name": "stdout",
          "output_type": "stream",
          "text": [
            "Hello Python! This is me trying to learn you!!\n"
          ]
        }
      ],
      "source": [
        "print('Hello Python! This is me trying to learn you!!')"
      ]
    },
    {
      "cell_type": "markdown",
      "metadata": {
        "id": "dpDfYwq-WlZy"
      },
      "source": [
        "**Exercise 1: Print your full Name and Department Name.**"
      ]
    },
    {
      "cell_type": "code",
      "execution_count": 2,
      "metadata": {
        "id": "vkbCR4WkWk-V"
      },
      "outputs": [
        {
          "name": "stdout",
          "output_type": "stream",
          "text": [
            "Isteak\n",
            "Computer Science and Engineering\n"
          ]
        }
      ],
      "source": [
        "print(\"Isteak\")\n",
        "print(\"Computer Science and Engineering\")"
      ]
    },
    {
      "cell_type": "markdown",
      "metadata": {
        "id": "8EDTbtm6Xv-o"
      },
      "source": [
        "## **New Line**"
      ]
    },
    {
      "cell_type": "code",
      "execution_count": 3,
      "metadata": {
        "colab": {
          "base_uri": "https://localhost:8080/"
        },
        "id": "y-Fh2kKYiSij",
        "outputId": "f4740d23-e904-45e1-9ad7-4412750bc4ab"
      },
      "outputs": [
        {
          "name": "stdout",
          "output_type": "stream",
          "text": [
            "To,\n",
            "The Faculty, CSC101,\n",
            "Deprtment of CSE, IUB.\n"
          ]
        }
      ],
      "source": [
        "print('To,\\nThe Faculty, CSC101,\\nDeprtment of CSE, IUB.')"
      ]
    },
    {
      "cell_type": "markdown",
      "metadata": {
        "id": "KfeCdYYOWp9W"
      },
      "source": [
        "**Exercise 2: Print Student Name, Student ID, Student Email, Course ID, Section as follows by generating new line.**\n",
        "\n",
        "---\n",
        "**OUTPUT**\n",
        "```\n",
        "Student Name:\n",
        "Student ID:\n",
        "Student Email:\n",
        "Course ID:\n",
        "Section:\n",
        "```"
      ]
    },
    {
      "cell_type": "code",
      "execution_count": 4,
      "metadata": {
        "id": "EHTD1FocX4lX"
      },
      "outputs": [
        {
          "name": "stdout",
          "output_type": "stream",
          "text": [
            "Student Name: Isteak\n",
            "Student ID: 23XXXXX\n",
            "Student Email: 23XXXXX@iub.edu.bt\n",
            "Course ID: CSC101L\n",
            "Section: 04\n"
          ]
        }
      ],
      "source": [
        "print(\"Student Name: Isteak\\nStudent ID: 23XXXXX\\nStudent Email: 23XXXXX@iub.edu.bt\\nCourse ID: CSC101L\\nSection: 04\")"
      ]
    },
    {
      "cell_type": "markdown",
      "metadata": {
        "id": "fSST9RslmRmP"
      },
      "source": [
        "#**Multi-line printing (single, double and tripple quotation)**\n",
        "\n",
        "---\n",
        "\n"
      ]
    },
    {
      "cell_type": "code",
      "execution_count": 5,
      "metadata": {
        "colab": {
          "base_uri": "https://localhost:8080/"
        },
        "id": "Cw2h2QMxmahA",
        "outputId": "72fbeb07-128b-4d04-9ebc-56fa73c2b8c8"
      },
      "outputs": [
        {
          "name": "stdout",
          "output_type": "stream",
          "text": [
            "This is Mahbubul Syeed. Currently working as an Associate Professor, Department of CSE, Indepenedent University, Bangladesh\n",
            "This is Mahbubul Syeed. Currently working as an Associate Professor, Department of CSE, Indepenedent University, Bangladesh\n"
          ]
        }
      ],
      "source": [
        "#Single quation for single line text printing\n",
        "print('This is Mahbubul Syeed. Currently working as an Associate Professor, Department of CSE, Indepenedent University, Bangladesh')\n",
        "\n",
        "#Double quotation has the same purpose as of the single quotation\n",
        "print(\"This is Mahbubul Syeed. Currently working as an Associate Professor, Department of CSE, Indepenedent University, Bangladesh\")"
      ]
    },
    {
      "cell_type": "code",
      "execution_count": 6,
      "metadata": {
        "colab": {
          "base_uri": "https://localhost:8080/"
        },
        "id": "PZwq_I46m1Vh",
        "outputId": "3d2930a0-fbf6-4926-ef4f-1420f4ab8d75"
      },
      "outputs": [
        {
          "name": "stdout",
          "output_type": "stream",
          "text": [
            "This is Mahbubul Syeed.\n",
            "Currently working as an Associate Professor,\n",
            "Department of CSE,\n",
            "Indepenedent University, Banglades\n"
          ]
        }
      ],
      "source": [
        "#Tripple quotation are used for MULTI line printing\n",
        "print('''This is Mahbubul Syeed.\n",
        "Currently working as an Associate Professor,\n",
        "Department of CSE,\n",
        "Indepenedent University, Banglades''')"
      ]
    },
    {
      "cell_type": "code",
      "execution_count": null,
      "metadata": {
        "id": "IjiXxJH3WpcR"
      },
      "outputs": [],
      "source": []
    },
    {
      "cell_type": "markdown",
      "metadata": {
        "id": "Ge3fyZyGaiSv"
      },
      "source": [
        "**Exercise 3: Print the following multi-line using multi-line printing.**\n",
        "\n",
        "Hard work pays off.\n",
        "\n",
        "The harder you work, the more people will notice.\n",
        "\n",
        "– Sydney Sweeney"
      ]
    },
    {
      "cell_type": "code",
      "execution_count": 8,
      "metadata": {
        "id": "c-xwfluCajAD"
      },
      "outputs": [
        {
          "name": "stdout",
          "output_type": "stream",
          "text": [
            "Hard work pays off.\n",
            "The harder you work, the more people will notice.\n",
            "- Sydney Sweeny\n"
          ]
        }
      ],
      "source": [
        "print('''Hard work pays off.\n",
        "The harder you work, the more people will notice.\n",
        "- Sydney Sweeny''')"
      ]
    },
    {
      "cell_type": "markdown",
      "metadata": {
        "id": "bqoivReti4G7"
      },
      "source": [
        "#**Commenting the code**\n",
        "\n",
        "---\n",
        "\n",
        "Comment are the messages to describe what your code does and is good for understanding your code. It is not part of the code."
      ]
    },
    {
      "cell_type": "code",
      "execution_count": 9,
      "metadata": {
        "id": "fly1JVn7i97u"
      },
      "outputs": [
        {
          "name": "stdout",
          "output_type": "stream",
          "text": [
            "My name is Mahbubul Syeed\n",
            "I am the faculty of this course\n"
          ]
        }
      ],
      "source": [
        "#printing the name\n",
        "print('My name is Mahbubul Syeed')\n",
        "print('I am the faculty of this course') # defining the faculty responsibility"
      ]
    },
    {
      "cell_type": "markdown",
      "metadata": {
        "id": "XS7sZ4JuSpHr"
      },
      "source": [
        "##**Multi-line Comments**"
      ]
    },
    {
      "cell_type": "code",
      "execution_count": 10,
      "metadata": {
        "colab": {
          "base_uri": "https://localhost:8080/"
        },
        "id": "Ddy-Ka-gPPvW",
        "outputId": "8c3bf9ff-a286-4aef-a2f7-92e2fa5ae26a"
      },
      "outputs": [
        {
          "name": "stdout",
          "output_type": "stream",
          "text": [
            "Hello World!\n"
          ]
        }
      ],
      "source": [
        "'''To,\n",
        "The Faculty, CSC101,\n",
        "Deprtment of CSE, IUB.'''\n",
        "print(\"Hello World!\")\n"
      ]
    },
    {
      "cell_type": "markdown",
      "metadata": {
        "id": "LdAJqmC2aOsn"
      },
      "source": [
        "**Exerecise 4:  Comment each line of the following code with appropriate message and multi-line comment for this code.**\n",
        "**Hint: You can write anything you want!**"
      ]
    },
    {
      "cell_type": "code",
      "execution_count": 11,
      "metadata": {
        "id": "bRQ9yr_7aObs"
      },
      "outputs": [
        {
          "name": "stdout",
          "output_type": "stream",
          "text": [
            "Course name: Introduction to Programming\n",
            "Course code: CSC101\n",
            "Semester: 1st\n",
            "Year: 1st\n"
          ]
        }
      ],
      "source": [
        "print('Course name: Introduction to Programming')   # printing the course name\n",
        "print('Course code: CSC101')    # printing the course code\n",
        "print('Semester: 1st')  # printing the current semester number\n",
        "print('Year: 1st')  # printing the study year in university"
      ]
    },
    {
      "cell_type": "markdown",
      "metadata": {
        "id": "zoRbqqHYolPP"
      },
      "source": [
        "#**Variables**\n",
        "\n",
        "---\n",
        "\n",
        "\n",
        "\n",
        "Variables are nothing but reserved memory locations to store values."
      ]
    },
    {
      "cell_type": "code",
      "execution_count": 12,
      "metadata": {
        "colab": {
          "base_uri": "https://localhost:8080/"
        },
        "id": "ZL-XKPhEovna",
        "outputId": "fbfa7252-5eea-45e5-9da5-4417aa6b63de"
      },
      "outputs": [
        {
          "name": "stdout",
          "output_type": "stream",
          "text": [
            "Mahbubul Syeed\n",
            "1234\n",
            "mahbubul.syeed@gmail.com\n"
          ]
        }
      ],
      "source": [
        "name = 'Mahbubul Syeed'               #name is a variable that stores the text 'Mahbubul Syeed'\n",
        "id = 1234                             #id is a variable that stores the number 1234\n",
        "email = \"mahbubul.syeed@gmail.com\"    #email is a variable that stores 'mahbubul.syeed@gmail.com'\n",
        "\n",
        "# NOTE! There is no quotation marks for the variables in print statement\n",
        "# print each of the variable values\n",
        "print(name)\n",
        "print(id)\n",
        "print(email)"
      ]
    },
    {
      "cell_type": "code",
      "execution_count": 13,
      "metadata": {
        "colab": {
          "base_uri": "https://localhost:8080/"
        },
        "id": "cCPx1YngqKHF",
        "outputId": "0812c590-27f6-4502-e207-860b9fe4cade"
      },
      "outputs": [
        {
          "name": "stdout",
          "output_type": "stream",
          "text": [
            "Mahbubul Syeed 1234 mahbubul.syeed@gmail.com\n",
            "Mahbubul Syeed , 1234 , mahbubul.syeed@gmail.com\n",
            "Mahbubul Syeed \n",
            " 1234 \n",
            " mahbubul.syeed@gmail.com\n",
            "your name:  Mahbubul Syeed \n",
            "your id:  1234 \n",
            "your email:  mahbubul.syeed@gmail.com\n"
          ]
        }
      ],
      "source": [
        "name = 'Mahbubul Syeed'               #name is a variable that stores the text 'Mahbubul Syeed'\n",
        "id = 1234                             #id is a variable that stores the number 1234\n",
        "email = \"mahbubul.syeed@gmail.com\"    #email is a variable that stores 'mahbubul.syeed@gmail.com'\n",
        "\n",
        "# NOTE! There is no quotation marks for the variables in print statement\n",
        "\n",
        "# print multiple variables in single print statement\n",
        "print(name, id, email)\n",
        "\n",
        "print(name, ',', id,',', email)\n",
        "\n",
        "print(name,'\\n',id,'\\n',email)\n",
        "\n",
        "print('your name: ', name, '\\nyour id: ', id,'\\nyour email: ', email)"
      ]
    },
    {
      "cell_type": "markdown",
      "metadata": {
        "id": "omyzrxiga39w"
      },
      "source": [
        "**Exercise 5: Use five variables to store Student Name, Student ID, Student Email, Course ID, Section and print them using multi-line printing.**\n",
        "\n",
        "---\n",
        "**OUTPUT**\n",
        "```\n",
        "Student Name:\n",
        "Student ID:\n",
        "Student Email:\n",
        "Course ID:\n",
        "Section:\n",
        "```\n",
        "\n"
      ]
    },
    {
      "cell_type": "code",
      "execution_count": 14,
      "metadata": {
        "id": "PM1_I4qAa7yP"
      },
      "outputs": [
        {
          "name": "stdout",
          "output_type": "stream",
          "text": [
            "Studen Name: Isteak\n",
            "Student ID: 0\n",
            "Student Email: 0000000@iub.edu. bd\n",
            "Course ID: CSC101L\n",
            "Section: 4\n"
          ]
        }
      ],
      "source": [
        "student_name = \"Isteak\"\n",
        "student_id = 0000000\n",
        "student_email = \"0000000@iub.edu. bd\"\n",
        "course_id = \"CSC101L\"\n",
        "section = 4\n",
        "\n",
        "print('''Studen Name: {}\n",
        "Student ID: {}\n",
        "Student Email: {}\n",
        "Course ID: {}\n",
        "Section: {}'''.format(student_name, student_id, student_email, course_id, section))"
      ]
    },
    {
      "cell_type": "markdown",
      "metadata": {},
      "source": [
        "**Another method:**"
      ]
    },
    {
      "cell_type": "code",
      "execution_count": 15,
      "metadata": {},
      "outputs": [
        {
          "name": "stdout",
          "output_type": "stream",
          "text": [
            "Studen Name: Isteak\n",
            "Student ID: 0\n",
            "Student Email: 0000000@iub.edu. bd\n",
            "Course ID: CSC101L\n",
            "Section: 4\n"
          ]
        }
      ],
      "source": [
        "student_name = \"Isteak\"\n",
        "student_id = 0000000\n",
        "student_email = \"0000000@iub.edu. bd\"\n",
        "course_id = \"CSC101L\"\n",
        "section = 4\n",
        "\n",
        "print(f'''Studen Name: {student_name}\n",
        "Student ID: {student_id}\n",
        "Student Email: {student_email}\n",
        "Course ID: {course_id}\n",
        "Section: {section}''')"
      ]
    },
    {
      "cell_type": "markdown",
      "metadata": {
        "id": "i_Mr9Keoa6NN"
      },
      "source": [
        "**Exercise 6: Use three variables to store Student ID, Course Name, CGPA. Print them using single print() statement by generating new line. The print will be exactly is follows:**\n",
        "\n",
        "\n",
        "---\n",
        "**OUTPUT**\n",
        "```\n",
        "Student ID:\n",
        "Course Name:\n",
        "CGPA:\n",
        "```"
      ]
    },
    {
      "cell_type": "code",
      "execution_count": 19,
      "metadata": {},
      "outputs": [
        {
          "name": "stdout",
          "output_type": "stream",
          "text": [
            "Student ID: 10101010\n",
            "Course Name: CSC101\n",
            "CGPA: 4.0\n"
          ]
        }
      ],
      "source": [
        "student_id = 10101010\n",
        "course_name = \"CSC101\"\n",
        "cgpa = 4.00\n",
        "\n",
        "print(\"Student ID: \" + str(student_id) + \"\\nCourse Name: \" + course_name + \"\\nCGPA: \" + str(cgpa))"
      ]
    },
    {
      "cell_type": "markdown",
      "metadata": {},
      "source": [
        "**Another Method**"
      ]
    },
    {
      "cell_type": "code",
      "execution_count": 16,
      "metadata": {},
      "outputs": [
        {
          "name": "stdout",
          "output_type": "stream",
          "text": [
            "Student ID: 10101010\n",
            "Course Name: CSC101\n",
            "CGPA: 4.0\n"
          ]
        }
      ],
      "source": [
        "student_id = 10101010\n",
        "course_name = \"CSC101\"\n",
        "cgpa = 4.00\n",
        "\n",
        "print(f\"Student ID: {student_id}\\nCourse Name: {course_name}\\nCGPA: {cgpa}\")"
      ]
    },
    {
      "cell_type": "markdown",
      "metadata": {},
      "source": [
        "**Another Method**"
      ]
    },
    {
      "cell_type": "code",
      "execution_count": 17,
      "metadata": {},
      "outputs": [
        {
          "name": "stdout",
          "output_type": "stream",
          "text": [
            "Student ID: 10101010\n",
            "Course Name: CSC101\n",
            "CGPA: 4.0\n"
          ]
        }
      ],
      "source": [
        "student_id = 10101010\n",
        "course_name = \"CSC101\"\n",
        "cgpa = 4.00\n",
        "\n",
        "print(\"Student ID: {}\\nCourse Name: {}\\nCGPA: {}\".format(student_id, course_name, cgpa))"
      ]
    },
    {
      "cell_type": "markdown",
      "metadata": {
        "id": "z57CzOl3dwfH"
      },
      "source": [
        "## **Assigning value to multiple variables**"
      ]
    },
    {
      "cell_type": "code",
      "execution_count": 20,
      "metadata": {
        "colab": {
          "base_uri": "https://localhost:8080/"
        },
        "id": "xg2f-YROeY0V",
        "outputId": "cd1cc41a-ec72-45a2-c996-f3d987af186c"
      },
      "outputs": [
        {
          "name": "stdout",
          "output_type": "stream",
          "text": [
            "a =  1 b =  1 c =  1\n"
          ]
        }
      ],
      "source": [
        "# Python allows you to assign a single value to several variables simultaneously\n",
        "a = b = c = 1\n",
        "print('a = ', a, 'b = ', b, 'c = ', c)"
      ]
    },
    {
      "cell_type": "code",
      "execution_count": 21,
      "metadata": {
        "colab": {
          "base_uri": "https://localhost:8080/"
        },
        "id": "I47RUKMUet8n",
        "outputId": "f29edac1-9af8-4ffe-aa93-254c59195baf"
      },
      "outputs": [
        {
          "name": "stdout",
          "output_type": "stream",
          "text": [
            "a =  1\n",
            "b =  12.34\n",
            "c =  Jems Bond 420\n"
          ]
        }
      ],
      "source": [
        "# You can also assign multiple values to multiple variables\n",
        "a, b, c = 1, 12.34, 'Jems Bond 420'\n",
        "\n",
        "print('a = ', a)\n",
        "print('b = ', b)\n",
        "print('c = ', c)"
      ]
    },
    {
      "cell_type": "markdown",
      "metadata": {
        "id": "sOdKp1KTbjIM"
      },
      "source": [
        "**Exercise 7: Using a single assignment operator to assign the values 7, 8.91, 'Jonny Jonny Yes Pappa' and 'This is 2023 Autumn semester.' to 4 different variables. Print their values.**"
      ]
    },
    {
      "cell_type": "code",
      "execution_count": 22,
      "metadata": {
        "id": "Bh9MXYhwbjtF"
      },
      "outputs": [
        {
          "name": "stdout",
          "output_type": "stream",
          "text": [
            "a =  7\n",
            "b =  8.91\n",
            "c =  Jonny Jonny Yes Pappa\n",
            "d =  This is 2023 Autumn semester\n"
          ]
        }
      ],
      "source": [
        "a, b, c, d = 7, 8.91, 'Jonny Jonny Yes Pappa', 'This is 2023 Autumn semester'\n",
        "\n",
        "print(\"a = \", a)\n",
        "print(\"b = \", b)\n",
        "print(\"c = \", c)\n",
        "print(\"d = \", d)"
      ]
    },
    {
      "cell_type": "markdown",
      "metadata": {
        "id": "0Cp_8expYTnq"
      },
      "source": [
        "#**Formatting printing using print() function**\n",
        "\n",
        "---\n",
        "\n"
      ]
    },
    {
      "cell_type": "markdown",
      "metadata": {
        "id": "uqXgvC0vhKuk"
      },
      "source": [
        "**Formatting Option: 1**"
      ]
    },
    {
      "cell_type": "code",
      "execution_count": 25,
      "metadata": {
        "colab": {
          "base_uri": "https://localhost:8080/"
        },
        "id": "IsIuPGNmYYhi",
        "outputId": "c6dd2214-2119-4e4e-dd25-04185463a7fb"
      },
      "outputs": [
        {
          "name": "stdout",
          "output_type": "stream",
          "text": [
            "Welcome Mustafa with id 420.26 to the class\n"
          ]
        }
      ],
      "source": [
        "name = 'Mustafa'\n",
        "id = 420.2555555\n",
        "print(\"Welcome %s with id %.2f to the class\" %(name,id))"
      ]
    },
    {
      "cell_type": "markdown",
      "metadata": {
        "id": "v8cRG_31hRZw"
      },
      "source": [
        "**Formatting Option: 2**"
      ]
    },
    {
      "cell_type": "code",
      "execution_count": 24,
      "metadata": {
        "colab": {
          "base_uri": "https://localhost:8080/"
        },
        "id": "GVcmaTyShX-B",
        "outputId": "ca610ee0-df1e-4737-e0e4-89e1ad1c14f4"
      },
      "outputs": [
        {
          "name": "stdout",
          "output_type": "stream",
          "text": [
            "Welcome Mustafa with id 420 to the class\n"
          ]
        }
      ],
      "source": [
        "name = 'Mustafa'\n",
        "id = 420\n",
        "print(\"Welcome {} with id {} to the class\".format(name,id))"
      ]
    },
    {
      "cell_type": "markdown",
      "metadata": {
        "id": "YaUgXJYShRtn"
      },
      "source": [
        "**Formatting Option: 3**"
      ]
    },
    {
      "cell_type": "code",
      "execution_count": 26,
      "metadata": {
        "colab": {
          "base_uri": "https://localhost:8080/"
        },
        "id": "dlzjnAQXhWsP",
        "outputId": "dbd24560-9692-4a7f-99f2-175ef3bff33c"
      },
      "outputs": [
        {
          "name": "stdout",
          "output_type": "stream",
          "text": [
            "Welcome Mustafa with id 420 to the class\n"
          ]
        }
      ],
      "source": [
        "name = 'Mustafa'\n",
        "id = 420\n",
        "print(f\"Welcome {name} with id {id} to the class\")"
      ]
    },
    {
      "cell_type": "markdown",
      "metadata": {
        "id": "nQMClQ56bvUL"
      },
      "source": [
        "**Exercise 8: Print the following using Formatting option 1**"
      ]
    },
    {
      "cell_type": "code",
      "execution_count": 40,
      "metadata": {
        "id": "twGCwLUfbuQd"
      },
      "outputs": [
        {
          "name": "stdout",
          "output_type": "stream",
          "text": [
            "Hello, James Bond. Your id is: 7 and email is 007@com. Welcome to the club!\n"
          ]
        }
      ],
      "source": [
        "name = 'James Bond'\n",
        "# id = 007  # shows Syntax error, leading zeros in decimal integer literals are not permitted\n",
        "id = int(\"007\") # did this to fix that SyntaxError, \n",
        "email = '007@com'\n",
        "\n",
        "# print the following message using Formatting option 1: Hello, Jems Bond. Your id is: 420 and email is 420@com. Welcome to the club!\n",
        "print(\"Hello, %s. Your id is: %d and email is %s. Welcome to the club!\" %(name, id, email))\n"
      ]
    },
    {
      "cell_type": "markdown",
      "metadata": {
        "id": "FjW4IpoEby7a"
      },
      "source": [
        "**Exercise 9: Print the following using Formatting option 2**"
      ]
    },
    {
      "cell_type": "code",
      "execution_count": 41,
      "metadata": {
        "id": "LLqBGKv5b2Bm"
      },
      "outputs": [
        {
          "name": "stdout",
          "output_type": "stream",
          "text": [
            "Hello, James Bond. Your id is: 7 and email is 007@com. Welcome to the club!\n"
          ]
        }
      ],
      "source": [
        "name = 'James Bond'\n",
        "# id = 007\n",
        "id = int(\"007\")\n",
        "email = '007@com'\n",
        "\n",
        "# print the following message using Formatting option 2: Hello, Jems Bond. Your id is: 420 and email is 420@com. Welcome to the club!\n",
        "print(\"Hello, {}. Your id is: {} and email is {}. Welcome to the club!\".format(name, id, email))"
      ]
    },
    {
      "cell_type": "markdown",
      "metadata": {
        "id": "Ragqc8Xub2lZ"
      },
      "source": [
        "**Exercise 10: Print the following using Formatting option 3**"
      ]
    },
    {
      "cell_type": "code",
      "execution_count": 42,
      "metadata": {
        "id": "7U6BObh6b5xL"
      },
      "outputs": [
        {
          "name": "stdout",
          "output_type": "stream",
          "text": [
            "Hello, {name}. Your id is: {id} and email is {email}. Welcome to the club!\n"
          ]
        }
      ],
      "source": [
        "name = 'James Bond'\n",
        "# id = 007\n",
        "id = int(\"007\")\n",
        "email = '007@com'\n",
        "\n",
        "# print the following message using Formatting option 3: Hello, Jems Bond. Your id is: 420 and email is 420@com. Welcome to the club!\n",
        "print(\"Hello, {name}. Your id is: {id} and email is {email}. Welcome to the club!\")"
      ]
    },
    {
      "cell_type": "markdown",
      "metadata": {
        "id": "AFDqiO19WeVs"
      },
      "source": [
        "#**Types of Variables**\n",
        "\n",
        "---\n",
        "\n"
      ]
    },
    {
      "cell_type": "markdown",
      "metadata": {
        "id": "L_MqcHKwWi4e"
      },
      "source": [
        "Python has five standard data types-\n",
        "\n",
        "\n",
        "1.   Numbers: Integer, Float, Complex\n",
        "2.   String\n",
        "3. List\n",
        "4.  Tuple\n",
        "5. Set\n",
        "6. Dictionary"
      ]
    },
    {
      "cell_type": "code",
      "execution_count": 43,
      "metadata": {
        "colab": {
          "base_uri": "https://localhost:8080/"
        },
        "id": "ewuPhCvNW0dc",
        "outputId": "80fff6e5-7639-45cb-dfe1-d3589c9a5777"
      },
      "outputs": [
        {
          "name": "stdout",
          "output_type": "stream",
          "text": [
            "1234\n",
            "12.45\n",
            "(3+6j)\n",
            "This is a string\n",
            "1234\n",
            "I have a case with no: 123456\n"
          ]
        }
      ],
      "source": [
        "# Numbers\n",
        "x = 1234   # integer\n",
        "y = 12.45  # float\n",
        "z = 3+6j  # complex\n",
        "\n",
        "# Sring : written within quotation marks\n",
        "\n",
        "a = 'This is a string'\n",
        "b = '1234'\n",
        "c = 'I have a case with no: 123456'\n",
        "\n",
        "print(x)\n",
        "print(y)\n",
        "print(z)\n",
        "\n",
        "print(a)\n",
        "print(b)\n",
        "print(c)"
      ]
    },
    {
      "cell_type": "markdown",
      "metadata": {
        "id": "KCYXqJYfcJCA"
      },
      "source": [
        "**Exercise 11: Declare one integer, one string and one float variable, and then print their values.**"
      ]
    },
    {
      "cell_type": "code",
      "execution_count": 44,
      "metadata": {
        "id": "LwbpxTt6cIk2"
      },
      "outputs": [
        {
          "name": "stdout",
          "output_type": "stream",
          "text": [
            "17\n",
            "Hello, world!\n",
            "3.98\n"
          ]
        }
      ],
      "source": [
        "a = 17\n",
        "b = 'Hello, world!'\n",
        "c = 3.98\n",
        "\n",
        "print(a)\n",
        "print(b)\n",
        "print(c)"
      ]
    },
    {
      "cell_type": "markdown",
      "metadata": {
        "id": "x4p9prMLXkl_"
      },
      "source": [
        "## **Checking the type of the variable in program**\n",
        "\n",
        "\n"
      ]
    },
    {
      "cell_type": "code",
      "execution_count": 45,
      "metadata": {
        "colab": {
          "base_uri": "https://localhost:8080/"
        },
        "id": "mcKDif14XshZ",
        "outputId": "b90b5091-1fcc-40b4-e69f-bd94f92d757d"
      },
      "outputs": [
        {
          "name": "stdout",
          "output_type": "stream",
          "text": [
            "<class 'int'>\n",
            "<class 'float'>\n",
            "<class 'complex'>\n",
            "<class 'str'>\n",
            "\n",
            "x =  1234 type of x is:  <class 'int'>\n",
            "y =  12.45 type of y is:  <class 'float'>\n",
            "b =  1234 type of b is:  <class 'str'>\n"
          ]
        }
      ],
      "source": [
        "# Numbers\n",
        "x = 1234   # integer\n",
        "y = 12.45  # float\n",
        "z = 3+6j  # complex\n",
        "\n",
        "# Sring : written within quotation marks\n",
        "\n",
        "a = 'This is a string'\n",
        "b = '1234'\n",
        "c = 'I have a case with no: 123456'\n",
        "\n",
        "#printing using two ways\n",
        "print(type(x))\n",
        "print(type(y))\n",
        "print(type(z))\n",
        "print(type(a))\n",
        "print()\n",
        "\n",
        "print('x = ', x, 'type of x is: ', type(x))\n",
        "print('y = ', y, 'type of y is: ', type(y))\n",
        "print('b = ', b, 'type of b is: ', type(b))"
      ]
    },
    {
      "cell_type": "markdown",
      "metadata": {
        "id": "a8Hp4qz9cSxL"
      },
      "source": [
        "**Exercise 12: Declare four variables of four different types. Print their values and data types.**"
      ]
    },
    {
      "cell_type": "code",
      "execution_count": 47,
      "metadata": {
        "id": "dLP-2pb_cTOn"
      },
      "outputs": [
        {
          "name": "stdout",
          "output_type": "stream",
          "text": [
            "x = 4, type of x is: <class 'int'>\n",
            "x = 3.89, type of x is: <class 'float'>\n",
            "x = (6+1j), type of x is: <class 'complex'>\n",
            "x = Python, type of x is: <class 'str'>\n"
          ]
        }
      ],
      "source": [
        "a = 4\n",
        "b = 3.89\n",
        "c = 6+1j\n",
        "d = \"Python\"\n",
        "\n",
        "print(f\"x = {a}, type of x is: {type(a)}\")\n",
        "print(f\"x = {b}, type of x is: {type(b)}\")\n",
        "print(f\"x = {c}, type of x is: {type(c)}\")\n",
        "print(f\"x = {d}, type of x is: {type(d)}\")"
      ]
    },
    {
      "cell_type": "markdown",
      "metadata": {
        "id": "ePCjzzAhVXg_"
      },
      "source": [
        "##**Converting the data type in program**"
      ]
    },
    {
      "cell_type": "code",
      "execution_count": 51,
      "metadata": {
        "colab": {
          "base_uri": "https://localhost:8080/"
        },
        "id": "2RSTcR4-VVWo",
        "outputId": "7d5b2447-faec-492b-d097-acc4b5bae872"
      },
      "outputs": [
        {
          "name": "stdout",
          "output_type": "stream",
          "text": [
            "1234 type is: <class 'int'>\n",
            "12.45 type is: <class 'float'>\n",
            "IUB type is: <class 'str'>\n",
            "\n",
            "\n",
            "Type of 1234 is: <class 'int'>\n",
            "Type of 1234 is: <class 'float'>\n",
            "Type of 1234 is:  <class 'str'>\n"
          ]
        }
      ],
      "source": [
        "# Numbers\n",
        "x = 1234   # integer\n",
        "y = 12.45  # float\n",
        "z = 'IUB'\n",
        "\n",
        "\n",
        "# check the type of x,y,z\n",
        "print(f'{x} type is: {type(x)}\\n{y} type is: {type(y)}\\n{z} type is: {type(z)}')\n",
        "print('\\n')\n",
        "\n",
        "# convert both the variables into integer and float as it is their data type using int() and float() function\n",
        "x = int(x)\n",
        "y = float(y)\n",
        "\n",
        "# check the type of x,y,z\n",
        "print(f'Type of {x} is: {type(x)}\\nType of {x} is: {type(y)}\\nType of {x} is:  {type(z)}')\n"
      ]
    },
    {
      "cell_type": "markdown",
      "metadata": {
        "id": "_RX3xuwSccC8"
      },
      "source": [
        "**Exercise 13: For the following variables check and print their data types. Change the datatype for the variable containing numerical values. Afterwards, check the datatype again.**"
      ]
    },
    {
      "cell_type": "code",
      "execution_count": 53,
      "metadata": {
        "id": "Kql5BKT-ccfE"
      },
      "outputs": [
        {
          "name": "stdout",
          "output_type": "stream",
          "text": [
            "<class 'str'>\n",
            "<class 'float'>\n",
            "<class 'int'>\n",
            "<class 'complex'>\n",
            "<class 'int'>\n",
            "<class 'float'>\n"
          ]
        }
      ],
      "source": [
        "name = 'My name is Khan'\n",
        "CGPA = 3.768\n",
        "age = 34\n",
        "w = -.7+7j\n",
        "\n",
        "# Print the datatype for name\n",
        "print(type(name))\n",
        "\n",
        "# Print the datatype for CGPA\n",
        "print(type(CGPA))\n",
        "\n",
        "# Print the datatype for age\n",
        "print(type(age))\n",
        "\n",
        "# Print the datatype for w\n",
        "print(type(w))\n",
        "\n",
        "#change the\n",
        "CGPA = int(CGPA)\n",
        "age = float(age)\n",
        "\n",
        "print(type(CGPA))\n",
        "print(type(age))"
      ]
    },
    {
      "cell_type": "markdown",
      "metadata": {
        "id": "KAVEZ8JTeB1B"
      },
      "source": [
        "# **User Input**\n",
        "\n",
        "---\n",
        "\n"
      ]
    },
    {
      "cell_type": "markdown",
      "metadata": {
        "id": "wvTmqt0dIInd"
      },
      "source": [
        "*   *input('Prompt')* function is used to take input from the user.\n",
        "*   User input is always stored in a variable.\n",
        "\n"
      ]
    },
    {
      "cell_type": "code",
      "execution_count": 54,
      "metadata": {
        "colab": {
          "base_uri": "https://localhost:8080/"
        },
        "id": "4Xm6UOq8IB8m",
        "outputId": "34dd7c62-bbcc-42f1-c194-6c0bf4ebd849"
      },
      "outputs": [
        {
          "name": "stdout",
          "output_type": "stream",
          "text": [
            "Isteak\n"
          ]
        }
      ],
      "source": [
        "name = input('Enter your name: ') # input() function displaying prompt 'Enter your name:' and wait for a user input\n",
        "                                  # While user enters the value and press enter, the value is stored in the 'name' variable\n",
        "print(name)                       # print the variable value"
      ]
    },
    {
      "cell_type": "code",
      "execution_count": 55,
      "metadata": {
        "colab": {
          "base_uri": "https://localhost:8080/",
          "height": 380
        },
        "id": "l6fSlNV4ulCY",
        "outputId": "d9642740-347a-4e97-e48a-abc25673244e"
      },
      "outputs": [
        {
          "name": "stdout",
          "output_type": "stream",
          "text": [
            "2 + 3 = -1\n"
          ]
        }
      ],
      "source": [
        "number1 = input(\"Enter number 1:\")\n",
        "number2 = input(\"Enter number2\")\n",
        "\n",
        "iub = int(number1) - int(number2)\n",
        "\n",
        "print(f'{number1} + {number2} = {iub}')\n"
      ]
    },
    {
      "cell_type": "markdown",
      "metadata": {
        "id": "EFHgs4c_umhW"
      },
      "source": [
        "**Did you Notice any issues with the above program!!**\n",
        "\n",
        "In python all inputs are taken as **string** type.\n",
        "\n",
        "You need to convert them to other data types explicitly."
      ]
    },
    {
      "cell_type": "code",
      "execution_count": 56,
      "metadata": {
        "colab": {
          "base_uri": "https://localhost:8080/"
        },
        "id": "MNKiTcSIvAjB",
        "outputId": "a437bff6-400e-4de3-e122-69135d1f9763"
      },
      "outputs": [
        {
          "name": "stdout",
          "output_type": "stream",
          "text": [
            "3 type is: <class 'str'>\n",
            "2 type is: <class 'str'>\n",
            "3 type is: <class 'int'>\n",
            "2 type is: <class 'int'>\n",
            "3 + 2 = 5\n"
          ]
        }
      ],
      "source": [
        "num1 = input('Enter Number 1: ')\n",
        "num2 = input('Enter Number 2: ')\n",
        "\n",
        "# check the type of num1 and num2\n",
        "print(f'{num1} type is: {type(num1)}\\n{num2} type is: {type(num2)}')\n",
        "\n",
        "# convert both the variables into integer using int() function\n",
        "num1 = int(num1)\n",
        "num2 = int(num2)\n",
        "\n",
        "# check the type of num1 and num2\n",
        "print(f'{num1} type is: {type(num1)}\\n{num2} type is: {type(num2)}')\n",
        "\n",
        "# add the two numbers and print the result\n",
        "add = num1 + num2\n",
        "\n",
        "print(f'{num1} + {num2} = {add}')"
      ]
    },
    {
      "cell_type": "markdown",
      "metadata": {
        "id": "hyiuvfA6wh0o"
      },
      "source": [
        "**Automatic Type conversion**\n",
        "Data types are auto converted to the upper types while doing artihmetic operations."
      ]
    },
    {
      "cell_type": "code",
      "execution_count": null,
      "metadata": {
        "colab": {
          "base_uri": "https://localhost:8080/",
          "height": 276
        },
        "id": "l8RVK-RswyeL",
        "outputId": "09941dd5-91d8-4dd2-9f96-8b8443955138"
      },
      "outputs": [],
      "source": [
        "a = 23.4   # type of a is float\n",
        "b = 16     # type of b is int\n",
        "\n",
        "c = a + b  # adding one float and one int number. so what will be the type of c? float or int?\n",
        "\n",
        "print(f'{a} type is: {type(a)}')\n",
        "print(f'{b} type is: {type(b)}')\n",
        "print(f'{c} type is: {type(c)}')\n",
        "\n",
        "a = 'I am Bond' # type of a is string\n",
        "b = 420         # type of b is int\n",
        "\n",
        "#QUESTION\n",
        "c = a + b       # what will be the type of c??\n",
        "\n",
        "\"\"\"\n",
        "Answer: C has no type. It will show error. We can concatenate string to string. To fix this, we have to\n",
        "        typecast the 'b' variable to string using str(). After typecasting, c's type will be string.\n",
        " \"\"\"\n",
        "\n"
      ]
    },
    {
      "cell_type": "markdown",
      "metadata": {
        "id": "LxRuJIgWcmLj"
      },
      "source": [
        "**Exercise: 14**\n",
        "\n",
        "\n",
        "1.   Prompt user to enter their email address and phone number as input.\n",
        "2.   Take the inputs in two variables name 'user_email' and 'user_phone'\n",
        "3.   Print the two variable using two print functions.\n",
        "\n",
        "\n"
      ]
    },
    {
      "cell_type": "code",
      "execution_count": 58,
      "metadata": {
        "id": "X2HmK376cmxI"
      },
      "outputs": [
        {
          "name": "stdout",
          "output_type": "stream",
          "text": [
            "Email: f;lkjfjfj@iub.edu.bd\n",
            "Phone number: 0121000000\n"
          ]
        }
      ],
      "source": [
        "user_email = input(\"Email: \")\n",
        "user_phone = input(\"Phone number: \")\n",
        "\n",
        "print(f\"Email: {user_email}\")\n",
        "print(f\"Phone number: {user_phone}\")"
      ]
    },
    {
      "cell_type": "markdown",
      "metadata": {
        "id": "jYuOi5YQcnTa"
      },
      "source": [
        "**Exercise: 15**\n",
        "\n",
        "\n",
        "1.   Take two numbers as input from the user and store them in two variables, a and b.\n",
        "2.   Add the two numbers and store the result in another varibale c (i.e., c = a + b)\n",
        "3.   Print the result formatteed as follows: a + b = c\n",
        "\n"
      ]
    },
    {
      "cell_type": "code",
      "execution_count": 60,
      "metadata": {
        "id": "KzO4HexDcqZJ"
      },
      "outputs": [
        {
          "name": "stdout",
          "output_type": "stream",
          "text": [
            "3 + 6 = 9\n"
          ]
        }
      ],
      "source": [
        "a = input(\"a: \")\n",
        "b = input(\"b: \")\n",
        "\n",
        "c = int(a) + int(b)\n",
        "print(f\"{a} + {b} = {c}\")"
      ]
    },
    {
      "cell_type": "markdown",
      "metadata": {
        "id": "4gFFM-BZcqxH"
      },
      "source": [
        "# **Lesson Exercise**\n",
        "\n",
        "---"
      ]
    },
    {
      "cell_type": "markdown",
      "metadata": {
        "id": "RU17No8bcvcx"
      },
      "source": [
        "**Exercise: 16**\n",
        "Get the following information from user and Print out your full name, your semester, your ID number, your hobby and your favorite movie name. All of the information should be in separate lines and should appear formatted like below:\n",
        "\n",
        "Full name: ……………\n",
        "\n",
        "ID: …………..\n",
        "\n",
        "Semester: …………\n",
        "\n",
        "Hobby: …………..\n",
        "\n",
        "Favorite movie: …………..\n",
        "\n",
        "OUTPUT\n",
        "Your name is ……………\n",
        "\n",
        "Your ID is ………\n",
        "\n",
        "Your semester is …………\n",
        "\n",
        "Your hobby is …………\n",
        "\n",
        "Your favorite movie is …………..\n"
      ]
    },
    {
      "cell_type": "code",
      "execution_count": 61,
      "metadata": {
        "id": "ApYPmCNVcywN"
      },
      "outputs": [
        {
          "name": "stdout",
          "output_type": "stream",
          "text": [
            "Your name is Isteak\n",
            "Your ID is 34235235235235235235\n",
            "Your semester is 1st\n",
            "Your hobby is Donno\n",
            "Your favorite movie is kfja;afjglajja\n"
          ]
        }
      ],
      "source": [
        "full_name = input(\"Full Name: \")\n",
        "id = input(\"ID: \")\n",
        "semester = input(\"Semester: \")\n",
        "hobby = input(\"Hobby: \")\n",
        "fav_movie = input(\"Favorite Movie: \")\n",
        "\n",
        "print(f\"Your name is {full_name}\\nYour ID is {id}\\nYour semester is {semester}\\nYour hobby is {hobby}\\nYour favorite movie is {fav_movie}\")"
      ]
    },
    {
      "cell_type": "markdown",
      "metadata": {
        "id": "dpoBfpcrczG4"
      },
      "source": [
        "**Exercise: 17**\n",
        "Take input from user their name, address, email and phone number. Then print the information on the screen. Following is the sample input and output:\n",
        "\n",
        "Name: Mahbubul Syeed\n",
        "\n",
        "Address: Dohs, Mirpur\n",
        "\n",
        "Email: xyz@gmail.com\n",
        "\n",
        "Phone: 12345678\n",
        "\n",
        "Your information is as follows:\n",
        "\n",
        "Hello Mahbubul Syeed! Your address is: Dohs, Mirpur. You will receive a confirmation email at: xyz@gmail.com and a message to your registered mobile number (12345678).\n"
      ]
    },
    {
      "cell_type": "code",
      "execution_count": 62,
      "metadata": {
        "id": "mZFlSNWAc2jS"
      },
      "outputs": [
        {
          "name": "stdout",
          "output_type": "stream",
          "text": [
            "Hello Isteak! Your address is: kajfkldj;alf;a. You will receive a confirmation email at: aflklkajgkjk@iub.edu.bd and a message to your registered mobile number (4558475554878).\n"
          ]
        }
      ],
      "source": [
        "name = input(\"Name: \")\n",
        "address = input(\"Address: \")\n",
        "email = input(\"Email: \")\n",
        "phone = input(\"Phone: \")\n",
        "\n",
        "print(f\"Hello {name}! Your address is: {address}. You will receive a confirmation email at: {email} and a message to your registered mobile number ({phone}).\")"
      ]
    },
    {
      "cell_type": "markdown",
      "metadata": {
        "id": "sznEyw3Mc26u"
      },
      "source": [
        "**Exercise: 18** Make a simple calculator for two numbers. Take two numbers as input from the user and print the result of simple arithmetic between them.\n",
        "Following is the simple input and output.\n",
        "\n",
        "Enter Two numbers..\n",
        "\n",
        "Enter number 1: 35\n",
        "\n",
        "Enter number 2: 45\n",
        "\n",
        "Addition (35 + 45) = 80\n",
        "\n",
        "Subtraction (35 - 45) = -10\n",
        "\n",
        "Division (35 / 45) = .777\n",
        "\n",
        "Multiplication (35 * 45) = 1575\n"
      ]
    },
    {
      "cell_type": "code",
      "execution_count": 64,
      "metadata": {
        "id": "ON4yFfs7c6dC"
      },
      "outputs": [
        {
          "name": "stdout",
          "output_type": "stream",
          "text": [
            "Addition (5 + 4) = 9\n",
            "Substraction (5 - 4) = 1\n",
            "Division (5 / 4) = 1.25\n",
            "Multiplication (5 * 4) = 20\n"
          ]
        }
      ],
      "source": [
        "number1 = int(input(\"Number 1: \"))\n",
        "number2 = int(input(\"Number 2: \"))\n",
        "\n",
        "addition = number1 + number2\n",
        "substraction = number1 - number2\n",
        "division = number1 / number2\n",
        "multiplication = number1 * number2\n",
        "\n",
        "print(f\"Addition ({number1} + {number2}) = {addition}\")\n",
        "print(f\"Substraction ({number1} - {number2}) = {substraction}\")\n",
        "print(f\"Division ({number1} / {number2}) = {division}\")\n",
        "print(f\"Multiplication ({number1} * {number2}) = {multiplication}\")"
      ]
    }
  ],
  "metadata": {
    "colab": {
      "provenance": []
    },
    "kernelspec": {
      "display_name": "Python 3",
      "name": "python3"
    },
    "language_info": {
      "codemirror_mode": {
        "name": "ipython",
        "version": 3
      },
      "file_extension": ".py",
      "mimetype": "text/x-python",
      "name": "python",
      "nbconvert_exporter": "python",
      "pygments_lexer": "ipython3",
      "version": "3.11.4"
    }
  },
  "nbformat": 4,
  "nbformat_minor": 0
}
